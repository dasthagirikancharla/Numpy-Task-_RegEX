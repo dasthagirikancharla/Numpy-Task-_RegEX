{
  "nbformat": 4,
  "nbformat_minor": 0,
  "metadata": {
    "colab": {
      "name": "Numpy Task Regex.ipynb",
      "provenance": [],
      "collapsed_sections": []
    },
    "kernelspec": {
      "name": "python3",
      "display_name": "Python 3"
    },
    "language_info": {
      "name": "python"
    }
  },
  "cells": [
    {
      "cell_type": "markdown",
      "source": [
        "1.Numpy stands for\n",
        "\n",
        "A. Numpy can be used to perform a wide variety of mathematical operations on  arrays.It stands for Numercial python"
      ],
      "metadata": {
        "id": "MSeZA-60Wwvg"
      }
    },
    {
      "cell_type": "markdown",
      "source": [
        "2.The most important object defined\n",
        "in Numpy is an N-dimensional array\n",
        "type called?\n",
        "\n",
        "A. It is called ndarray.It describes the collection of items of the same type.\n",
        "\n"
      ],
      "metadata": {
        "id": "u6E7YpegXXU3"
      }
    },
    {
      "cell_type": "markdown",
      "source": [
        "3.What will be output for the following code?"
      ],
      "metadata": {
        "id": "VkOgmX-8YCEv"
      }
    },
    {
      "cell_type": "code",
      "source": [
        "import numpy as np"
      ],
      "metadata": {
        "id": "E_Wl70GKYFen"
      },
      "execution_count": 3,
      "outputs": []
    },
    {
      "cell_type": "code",
      "source": [
        "a = np.array([1, 2, 3], dtype =\n",
        "complex)\n",
        "print(a)"
      ],
      "metadata": {
        "colab": {
          "base_uri": "https://localhost:8080/"
        },
        "id": "R3Uo5KSjYQyQ",
        "outputId": "e84525f4-07ce-49fb-a8e8-00fb9c0fd23d"
      },
      "execution_count": 6,
      "outputs": [
        {
          "output_type": "stream",
          "name": "stdout",
          "text": [
            "[1.+0.j 2.+0.j 3.+0.j]\n"
          ]
        }
      ]
    },
    {
      "cell_type": "code",
      "source": [
        "a = np.array([1,2,3])\n",
        "print(a)"
      ],
      "metadata": {
        "colab": {
          "base_uri": "https://localhost:8080/"
        },
        "id": "8eVd51WWYSzv",
        "outputId": "031a7a46-bbef-42ef-9a43-cc1e04edf846"
      },
      "execution_count": 7,
      "outputs": [
        {
          "output_type": "stream",
          "name": "stdout",
          "text": [
            "[1 2 3]\n"
          ]
        }
      ]
    },
    {
      "cell_type": "code",
      "source": [
        "a = np.array([1, 2, 3], dtype =\"float\")\n",
        "print(a)"
      ],
      "metadata": {
        "colab": {
          "base_uri": "https://localhost:8080/"
        },
        "id": "ztLEbnKiYa14",
        "outputId": "687f593c-f08c-4d88-81e0-367cefb009cf"
      },
      "execution_count": 8,
      "outputs": [
        {
          "output_type": "stream",
          "name": "stdout",
          "text": [
            "[1. 2. 3.]\n"
          ]
        }
      ]
    },
    {
      "cell_type": "code",
      "source": [
        "a =np.dtype(\"i4\")\n",
        "print(a)"
      ],
      "metadata": {
        "colab": {
          "base_uri": "https://localhost:8080/"
        },
        "id": "8FKV5U7_YgFe",
        "outputId": "b230ccb3-36e6-4146-fde8-f822ee5d5652"
      },
      "execution_count": 12,
      "outputs": [
        {
          "output_type": "stream",
          "name": "stdout",
          "text": [
            "int32\n"
          ]
        }
      ]
    },
    {
      "cell_type": "code",
      "source": [
        "a = np.array([1, 2, 3,4,5], ndmin= 2)\n",
        "print(a)"
      ],
      "metadata": {
        "colab": {
          "base_uri": "https://localhost:8080/"
        },
        "id": "Qyk_6D61YlA1",
        "outputId": "88896bd0-f7c6-4dd5-82d8-817d9b1d6098"
      },
      "execution_count": 13,
      "outputs": [
        {
          "output_type": "stream",
          "name": "stdout",
          "text": [
            "[[1 2 3 4 5]]\n"
          ]
        }
      ]
    },
    {
      "cell_type": "code",
      "source": [
        "dt =np.dtype([(\"age\",np.int8)])\n",
        "a = np.array([(10,),(20,),(30,)],dtype = dt)\n",
        "a[\"age\"]"
      ],
      "metadata": {
        "colab": {
          "base_uri": "https://localhost:8080/"
        },
        "id": "lp9sxUP8Y27O",
        "outputId": "234da882-1626-4078-cbf9-69b7867eee9f"
      },
      "execution_count": 17,
      "outputs": [
        {
          "output_type": "execute_result",
          "data": {
            "text/plain": [
              "array([10, 20, 30], dtype=int8)"
            ]
          },
          "metadata": {},
          "execution_count": 17
        }
      ]
    },
    {
      "cell_type": "code",
      "source": [
        "a=np.array([1,2,3,5,8])\n",
        "b=np.array([0,3,4,2,1])\n",
        "c=a+b\n",
        "c=c*a\n",
        "print(\"c values:\",c)\n",
        "print(c[2])"
      ],
      "metadata": {
        "colab": {
          "base_uri": "https://localhost:8080/"
        },
        "id": "4UJ9Ytp3ZBOm",
        "outputId": "ac397626-e41c-4c60-ff5e-fdb709040592"
      },
      "execution_count": 20,
      "outputs": [
        {
          "output_type": "stream",
          "name": "stdout",
          "text": [
            "c values: [ 1 10 21 35 72]\n",
            "21\n"
          ]
        }
      ]
    },
    {
      "cell_type": "code",
      "source": [
        "a = np.array([1,2,3,5,8])\n",
        "a = a + 1\n",
        "print (a[1])"
      ],
      "metadata": {
        "colab": {
          "base_uri": "https://localhost:8080/"
        },
        "id": "s1rF7gfbZk2u",
        "outputId": "66d887df-6b7c-4120-f876-c2c313dd6f02"
      },
      "execution_count": 21,
      "outputs": [
        {
          "output_type": "stream",
          "name": "stdout",
          "text": [
            "3\n"
          ]
        }
      ]
    },
    {
      "cell_type": "code",
      "source": [
        "a = np.array([[1,2,3],[0,1,4]])\n",
        "print (a.size)"
      ],
      "metadata": {
        "colab": {
          "base_uri": "https://localhost:8080/"
        },
        "id": "XDf8ydxlZ3SW",
        "outputId": "3f6f78ce-fc0a-4cc7-ad24-1557307dc0db"
      },
      "execution_count": 22,
      "outputs": [
        {
          "output_type": "stream",
          "name": "stdout",
          "text": [
            "6\n"
          ]
        }
      ]
    },
    {
      "cell_type": "code",
      "source": [
        "a =np.array([1,2,3,5,8])\n",
        "a\n",
        "print(\"No.of dimensions :\",a.ndim)\n",
        "print(\"Shape of array:\",a.size)\n",
        "print(\"Size of array:\",a.shape)\n",
        "from scipy import stats\n",
        "print(\"describe:\",stats.describe(a))"
      ],
      "metadata": {
        "colab": {
          "base_uri": "https://localhost:8080/"
        },
        "id": "KlDVZ1i_Z82W",
        "outputId": "455e934e-d0fb-4095-d86f-5848648659ba"
      },
      "execution_count": 93,
      "outputs": [
        {
          "output_type": "stream",
          "name": "stdout",
          "text": [
            "No.of dimensions : 1\n",
            "Shape of array: 5\n",
            "Size of array: (5,)\n",
            "describe: DescribeResult(nobs=5, minmax=(1, 8), mean=3.8, variance=7.7, skewness=0.6216348579624364, kurtosis=-0.9675324675324677)\n"
          ]
        }
      ]
    },
    {
      "cell_type": "code",
      "source": [
        "a = np.array([[1,2,3],[0,1,4]])\n",
        "b = np.zeros((2,3), dtype=np.int16)\n",
        "c = np.ones((2,3), dtype=np.int16)\n",
        "d = a + b + c\n",
        "print(d)"
      ],
      "metadata": {
        "colab": {
          "base_uri": "https://localhost:8080/"
        },
        "id": "fQxWpu7JaHNe",
        "outputId": "789a3b04-a813-4282-94fe-38de51888523"
      },
      "execution_count": 38,
      "outputs": [
        {
          "output_type": "stream",
          "name": "stdout",
          "text": [
            "[[2 3 4]\n",
            " [1 2 5]]\n"
          ]
        }
      ]
    },
    {
      "cell_type": "code",
      "source": [
        "print (d[1,2])\n",
        "print (d.size)\n",
        "print(np.ndim(d))\n",
        "print(np.zeros((a)))"
      ],
      "metadata": {
        "colab": {
          "base_uri": "https://localhost:8080/"
        },
        "id": "P0_9vQr-dSbc",
        "outputId": "ee4b6ce0-ca3d-4e13-a988-b2511352e6bb"
      },
      "execution_count": 88,
      "outputs": [
        {
          "output_type": "stream",
          "name": "stdout",
          "text": [
            "5\n",
            "6\n",
            "2\n",
            "[[[[[0. 0. 0. 0. 0. 0. 0. 0.]\n",
            "    [0. 0. 0. 0. 0. 0. 0. 0.]\n",
            "    [0. 0. 0. 0. 0. 0. 0. 0.]\n",
            "    [0. 0. 0. 0. 0. 0. 0. 0.]\n",
            "    [0. 0. 0. 0. 0. 0. 0. 0.]]\n",
            "\n",
            "   [[0. 0. 0. 0. 0. 0. 0. 0.]\n",
            "    [0. 0. 0. 0. 0. 0. 0. 0.]\n",
            "    [0. 0. 0. 0. 0. 0. 0. 0.]\n",
            "    [0. 0. 0. 0. 0. 0. 0. 0.]\n",
            "    [0. 0. 0. 0. 0. 0. 0. 0.]]\n",
            "\n",
            "   [[0. 0. 0. 0. 0. 0. 0. 0.]\n",
            "    [0. 0. 0. 0. 0. 0. 0. 0.]\n",
            "    [0. 0. 0. 0. 0. 0. 0. 0.]\n",
            "    [0. 0. 0. 0. 0. 0. 0. 0.]\n",
            "    [0. 0. 0. 0. 0. 0. 0. 0.]]]\n",
            "\n",
            "\n",
            "  [[[0. 0. 0. 0. 0. 0. 0. 0.]\n",
            "    [0. 0. 0. 0. 0. 0. 0. 0.]\n",
            "    [0. 0. 0. 0. 0. 0. 0. 0.]\n",
            "    [0. 0. 0. 0. 0. 0. 0. 0.]\n",
            "    [0. 0. 0. 0. 0. 0. 0. 0.]]\n",
            "\n",
            "   [[0. 0. 0. 0. 0. 0. 0. 0.]\n",
            "    [0. 0. 0. 0. 0. 0. 0. 0.]\n",
            "    [0. 0. 0. 0. 0. 0. 0. 0.]\n",
            "    [0. 0. 0. 0. 0. 0. 0. 0.]\n",
            "    [0. 0. 0. 0. 0. 0. 0. 0.]]\n",
            "\n",
            "   [[0. 0. 0. 0. 0. 0. 0. 0.]\n",
            "    [0. 0. 0. 0. 0. 0. 0. 0.]\n",
            "    [0. 0. 0. 0. 0. 0. 0. 0.]\n",
            "    [0. 0. 0. 0. 0. 0. 0. 0.]\n",
            "    [0. 0. 0. 0. 0. 0. 0. 0.]]]]]\n"
          ]
        }
      ]
    },
    {
      "cell_type": "markdown",
      "source": [
        "4.You have a matrix defined as\n",
        "below:"
      ],
      "metadata": {
        "id": "UYxMlcYmf9ma"
      }
    },
    {
      "cell_type": "code",
      "source": [
        "A = np.array([[6, 1, 1],[4, -2, 5],[2, 8, 7]])\n",
        "A"
      ],
      "metadata": {
        "colab": {
          "base_uri": "https://localhost:8080/"
        },
        "id": "fRf1f8eVgA2y",
        "outputId": "079b9851-b1e9-48b3-8f56-b85decd01c8c"
      },
      "execution_count": 52,
      "outputs": [
        {
          "output_type": "execute_result",
          "data": {
            "text/plain": [
              "array([[ 6,  1,  1],\n",
              "       [ 4, -2,  5],\n",
              "       [ 2,  8,  7]])"
            ]
          },
          "metadata": {},
          "execution_count": 52
        }
      ]
    },
    {
      "cell_type": "code",
      "source": [
        "print(\"\\nWith np.transpose(a) function\")\n",
        "print(np.transpose(A))\n",
        "print(\"\\nTrace:\", A.trace())"
      ],
      "metadata": {
        "colab": {
          "base_uri": "https://localhost:8080/"
        },
        "id": "YxTy5wRjgPYS",
        "outputId": "36736b1f-1e7b-48c1-9b40-995da7bcc9ac"
      },
      "execution_count": 56,
      "outputs": [
        {
          "output_type": "stream",
          "name": "stdout",
          "text": [
            "\n",
            "With np.transpose(a) function\n",
            "[[ 6  4  2]\n",
            " [ 1 -2  8]\n",
            " [ 1  5  7]]\n",
            "\n",
            "Trace: 11\n"
          ]
        }
      ]
    },
    {
      "cell_type": "code",
      "source": [
        "rank = np.linalg.matrix_rank(A)\n",
        "print(\"\\nRank:\", rank)"
      ],
      "metadata": {
        "colab": {
          "base_uri": "https://localhost:8080/"
        },
        "id": "Hlj601tbgtpa",
        "outputId": "dc70fe55-1cc8-4461-8b79-c14ce175bfcd"
      },
      "execution_count": 57,
      "outputs": [
        {
          "output_type": "stream",
          "name": "stdout",
          "text": [
            "\n",
            "Rank: 3\n"
          ]
        }
      ]
    },
    {
      "cell_type": "code",
      "source": [
        "det = np.linalg.det(A)\n",
        "print(\"\\nDeterminant:\", np.round(det))"
      ],
      "metadata": {
        "colab": {
          "base_uri": "https://localhost:8080/"
        },
        "id": "xyAFl8wWiQTh",
        "outputId": "b51c57bb-0b2e-4cb9-ab79-a591722bc1df"
      },
      "execution_count": 61,
      "outputs": [
        {
          "output_type": "stream",
          "name": "stdout",
          "text": [
            "\n",
            "Determinant: -306.0\n"
          ]
        }
      ]
    },
    {
      "cell_type": "code",
      "source": [
        "inv = np.linalg.inv(A)\n",
        "print(\"inverse of matrix:\",inv)"
      ],
      "metadata": {
        "colab": {
          "base_uri": "https://localhost:8080/"
        },
        "id": "FNsl8lArj4QZ",
        "outputId": "c4eaa2ab-172d-40b5-ffdd-23b1e91b63c2"
      },
      "execution_count": 63,
      "outputs": [
        {
          "output_type": "stream",
          "name": "stdout",
          "text": [
            "inverse of matrix: [[ 0.17647059 -0.00326797 -0.02287582]\n",
            " [ 0.05882353 -0.13071895  0.08496732]\n",
            " [-0.11764706  0.1503268   0.05228758]]\n"
          ]
        }
      ]
    },
    {
      "cell_type": "markdown",
      "source": [
        "5.Type these lines of code and check\n",
        "the output for each of them."
      ],
      "metadata": {
        "id": "vbx_XvSyoalP"
      }
    },
    {
      "cell_type": "code",
      "source": [
        "list1 =[1, 2, 3, 4 ,5, 6]\n",
        "list2 =[10, 9, 8, 7, 6, 5]"
      ],
      "metadata": {
        "id": "OwzcAlEEoezO"
      },
      "execution_count": 104,
      "outputs": []
    },
    {
      "cell_type": "code",
      "source": [
        "print(list1 *list2)\n",
        "print(list1+list2)\n",
        "print(list1%list2)\n",
        "print(list1/list2)\n",
        "print(list1-list2)\n",
        "print(list1^list2)"
      ],
      "metadata": {
        "colab": {
          "base_uri": "https://localhost:8080/",
          "height": 235
        },
        "id": "DBhZFt1kohge",
        "outputId": "f374a077-7db1-4c0d-b0c0-dd4422b28557"
      },
      "execution_count": 106,
      "outputs": [
        {
          "output_type": "error",
          "ename": "TypeError",
          "evalue": "ignored",
          "traceback": [
            "\u001b[0;31m---------------------------------------------------------------------------\u001b[0m",
            "\u001b[0;31mTypeError\u001b[0m                                 Traceback (most recent call last)",
            "\u001b[0;32m<ipython-input-106-41f8feb29646>\u001b[0m in \u001b[0;36m<module>\u001b[0;34m()\u001b[0m\n\u001b[0;32m----> 1\u001b[0;31m \u001b[0mprint\u001b[0m\u001b[0;34m(\u001b[0m\u001b[0mlist1\u001b[0m \u001b[0;34m*\u001b[0m\u001b[0mlist2\u001b[0m\u001b[0;34m)\u001b[0m\u001b[0;34m\u001b[0m\u001b[0;34m\u001b[0m\u001b[0m\n\u001b[0m\u001b[1;32m      2\u001b[0m \u001b[0mprint\u001b[0m\u001b[0;34m(\u001b[0m\u001b[0mlist1\u001b[0m\u001b[0;34m+\u001b[0m\u001b[0mlist2\u001b[0m\u001b[0;34m)\u001b[0m\u001b[0;34m\u001b[0m\u001b[0;34m\u001b[0m\u001b[0m\n\u001b[1;32m      3\u001b[0m \u001b[0mprint\u001b[0m\u001b[0;34m(\u001b[0m\u001b[0mlist1\u001b[0m\u001b[0;34m%\u001b[0m\u001b[0mlist2\u001b[0m\u001b[0;34m)\u001b[0m\u001b[0;34m\u001b[0m\u001b[0;34m\u001b[0m\u001b[0m\n\u001b[1;32m      4\u001b[0m \u001b[0mprint\u001b[0m\u001b[0;34m(\u001b[0m\u001b[0mlist1\u001b[0m\u001b[0;34m/\u001b[0m\u001b[0mlist2\u001b[0m\u001b[0;34m)\u001b[0m\u001b[0;34m\u001b[0m\u001b[0;34m\u001b[0m\u001b[0m\n\u001b[1;32m      5\u001b[0m \u001b[0mprint\u001b[0m\u001b[0;34m(\u001b[0m\u001b[0mlist1\u001b[0m\u001b[0;34m-\u001b[0m\u001b[0mlist2\u001b[0m\u001b[0;34m)\u001b[0m\u001b[0;34m\u001b[0m\u001b[0;34m\u001b[0m\u001b[0m\n",
            "\u001b[0;31mTypeError\u001b[0m: can't multiply sequence by non-int of type 'list'"
          ]
        }
      ]
    },
    {
      "cell_type": "markdown",
      "source": [
        "6.Type these lines of code and check the output for each of them."
      ],
      "metadata": {
        "id": "JWDL7dwepZiv"
      }
    },
    {
      "cell_type": "code",
      "source": [
        "list1 = np.array([1, 2, 3, 4 ,5, 6])\n",
        "list2 = np.array([10, 9, 8, 7, 6, 5])"
      ],
      "metadata": {
        "id": "xkrVhlhvpb21"
      },
      "execution_count": 100,
      "outputs": []
    },
    {
      "cell_type": "code",
      "source": [
        "print(\"Multiplication of array:\",list1*list2)\n",
        "print(\"Addition of array:\",list1+list2)\n",
        "print(\"percentage of array:\",list1%list2)\n",
        "print(\"Division of array:\",list1/list2)\n",
        "print(\"Subtract of array:\",list1-list2)\n",
        "print(\"Bitwise XOR:\",list1^list2)"
      ],
      "metadata": {
        "colab": {
          "base_uri": "https://localhost:8080/"
        },
        "id": "iDQwNMnfphbf",
        "outputId": "75da3e46-3c24-421c-978e-dc7d0fd57dbd"
      },
      "execution_count": 103,
      "outputs": [
        {
          "output_type": "stream",
          "name": "stdout",
          "text": [
            "Multiplication of array: [10 18 24 28 30 30]\n",
            "Addition of array: [11 11 11 11 11 11]\n",
            "percentage of array: [1 2 3 4 5 1]\n",
            "Division of array: [0.1        0.22222222 0.375      0.57142857 0.83333333 1.2       ]\n",
            "Subtract of array: [-9 -7 -5 -3 -1  1]\n",
            "Bitwise XOR: [11 11 11  3  3  3]\n"
          ]
        }
      ]
    },
    {
      "cell_type": "code",
      "source": [
        ""
      ],
      "metadata": {
        "id": "VAnpAKuzpob-"
      },
      "execution_count": null,
      "outputs": []
    }
  ]
}